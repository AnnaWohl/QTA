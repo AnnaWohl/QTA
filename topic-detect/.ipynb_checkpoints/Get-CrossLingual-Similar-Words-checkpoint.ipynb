{
 "cells": [
  {
   "cell_type": "code",
   "execution_count": 1,
   "metadata": {},
   "outputs": [],
   "source": [
    "def remove_lang_results(rank,lang):\n",
    "    final_rank = []\n",
    "    for x in rank:\n",
    "        if lang != x[0].split(\"__\")[0]:\n",
    "            final_rank.append(x)\n",
    "    return final_rank\n",
    "\n",
    "def keep_only_one_lang(rank,lang):\n",
    "    final_rank = []\n",
    "    for x in rank:\n",
    "        if lang == x[0].split(\"__\")[0]:\n",
    "            final_rank.append(x)\n",
    "    return final_rank"
   ]
  },
  {
   "cell_type": "code",
   "execution_count": 2,
   "metadata": {},
   "outputs": [
    {
     "name": "stderr",
     "output_type": "stream",
     "text": [
      "C:\\Anaconda3\\lib\\site-packages\\gensim\\utils.py:1197: UserWarning: detected Windows; aliasing chunkize to chunkize_serial\n",
      "  warnings.warn(\"detected Windows; aliasing chunkize to chunkize_serial\")\n"
     ]
    }
   ],
   "source": [
    "import gensim\n",
    "\n",
    "#import here your word-embeddings - put the path to the file (if it's .bin change the binary to True)\n",
    "#emb_model = gensim.models.KeyedVectors.load_word2vec_format('../TextScaling/topfish/edited.wiki.big-five.mapped.vec', binary=False)\n",
    "emb_model = gensim.models.KeyedVectors.load_word2vec_format('C:/Users/Dr. J/Desktop/edited.wiki.big-five.mapped.vec', binary=False)\n"
   ]
  },
  {
   "cell_type": "code",
   "execution_count": 15,
   "metadata": {},
   "outputs": [
    {
     "name": "stdout",
     "output_type": "stream",
     "text": [
      "('fr__citoyens', 0.3692665994167328)\n",
      "('it__cittadini', 0.36018866300582886)\n",
      "('it__persone', 0.35626643896102905)\n",
      "('fr__gens', 0.35601261258125305)\n",
      "('fr__personnes', 0.34674301743507385)\n",
      "('es__ciudadanos', 0.3465709984302521)\n",
      "('es__gente', 0.3145983815193176)\n",
      "('es__personas', 0.3115852177143097)\n",
      "('it__gente', 0.306003600358963)\n",
      "('es__conciudadanos', 0.2948034405708313)\n",
      "('es__residentes', 0.28801199793815613)\n",
      "('it__cittadinanza', 0.27702340483665466)\n",
      "('it__residenti', 0.274262011051178)\n",
      "('fr__paroissiens', 0.27411943674087524)\n",
      " \n",
      "('it__cittadini', 0.36018866300582886)\n",
      "('it__persone', 0.35626643896102905)\n",
      "('it__gente', 0.306003600358963)\n",
      "('it__cittadinanza', 0.27702340483665466)\n",
      "('it__residenti', 0.274262011051178)\n"
     ]
    },
    {
     "name": "stderr",
     "output_type": "stream",
     "text": [
      "C:\\Anaconda3\\lib\\site-packages\\ipykernel_launcher.py:2: DeprecationWarning: Call to deprecated `wv` (Attribute will be removed in 4.0.0, use self instead).\n",
      "  \n"
     ]
    }
   ],
   "source": [
    "# you need to add the language + __ before each word\n",
    "res = emb_model.wv.most_similar(positive=['en__people', 'en__citizen'], negative=['en__elite',\"en__politician\"], topn=20)\n",
    "\n",
    "# here you can remove from the results the words in english\n",
    "res = remove_lang_results(res,\"en\")\n",
    "for el in res:\n",
    "    print (el)\n",
    "\n",
    "# or you can keep only the words in one language, for instance Italian\n",
    "print (\" \")\n",
    "\n",
    "res =  keep_only_one_lang(res,\"it\")\n",
    "for el in res:\n",
    "    print (el)"
   ]
  },
  {
   "cell_type": "code",
   "execution_count": 16,
   "metadata": {},
   "outputs": [
    {
     "name": "stdout",
     "output_type": "stream",
     "text": [
      "('it__popolo', 0.29390931129455566)\n",
      "('fr__peuple', 0.2877154052257538)\n",
      "('en__consecrate', 0.27847620844841003)\n",
      " \n",
      "('en__consecrate', 0.27847620844841003)\n"
     ]
    },
    {
     "name": "stderr",
     "output_type": "stream",
     "text": [
      "C:\\Anaconda3\\lib\\site-packages\\ipykernel_launcher.py:2: DeprecationWarning: Call to deprecated `wv` (Attribute will be removed in 4.0.0, use self instead).\n",
      "  \n"
     ]
    }
   ],
   "source": [
    "# you need to add the language + __ before each word\n",
    "res = emb_model.wv.most_similar(positive=['de__volk'], negative=['de__elite'], topn=20)\n",
    "\n",
    "# here you can remove from the results\n",
    "res = remove_lang_results(res,\"de\")\n",
    "for el in res:\n",
    "    print (el)\n",
    "\n",
    "# or you can keep only the words in one language\n",
    "print (\" \")\n",
    "\n",
    "res =  keep_only_one_lang(res,\"en\")\n",
    "for el in res:\n",
    "    print (el)\n"
   ]
  },
  {
   "cell_type": "code",
   "execution_count": 17,
   "metadata": {},
   "outputs": [
    {
     "name": "stdout",
     "output_type": "stream",
     "text": [
      "('it__popolo', 0.5995800495147705)\n",
      "('fr__peuple', 0.572364330291748)\n",
      " \n"
     ]
    },
    {
     "name": "stderr",
     "output_type": "stream",
     "text": [
      "C:\\Anaconda3\\lib\\site-packages\\ipykernel_launcher.py:2: DeprecationWarning: Call to deprecated `wv` (Attribute will be removed in 4.0.0, use self instead).\n",
      "  \n"
     ]
    }
   ],
   "source": [
    "# you need to add the language + __ before each word\n",
    "res = emb_model.wv.most_similar(positive=['de__volk'], topn=20)\n",
    "\n",
    "# here you can remove from the results\n",
    "res = remove_lang_results(res,\"de\")\n",
    "for el in res:\n",
    "    print (el)\n",
    "\n",
    "# or you can keep only the words in one language\n",
    "print (\" \")\n",
    "\n",
    "res =  keep_only_one_lang(res,\"en\")\n",
    "for el in res:\n",
    "    print (el)"
   ]
  },
  {
   "cell_type": "code",
   "execution_count": 18,
   "metadata": {},
   "outputs": [
    {
     "name": "stdout",
     "output_type": "stream",
     "text": [
      "('en__elite', 0.5830923914909363)\n",
      "('en__elites', 0.5063658356666565)\n",
      "('it__élite', 0.4967130720615387)\n",
      "('es__élite', 0.49440354108810425)\n",
      "('fr__élite', 0.47277146577835083)\n",
      "('es__elite', 0.464328408241272)\n",
      " \n",
      "('en__elite', 0.5830923914909363)\n",
      "('en__elites', 0.5063658356666565)\n"
     ]
    },
    {
     "name": "stderr",
     "output_type": "stream",
     "text": [
      "C:\\Anaconda3\\lib\\site-packages\\ipykernel_launcher.py:2: DeprecationWarning: Call to deprecated `wv` (Attribute will be removed in 4.0.0, use self instead).\n",
      "  \n"
     ]
    }
   ],
   "source": [
    "# you need to add the language + __ before each word\n",
    "res = emb_model.wv.most_similar(positive=['de__elite'], topn=20)\n",
    "\n",
    "# here you can remove from the results\n",
    "res = remove_lang_results(res,\"de\")\n",
    "for el in res:\n",
    "    print (el)\n",
    "\n",
    "# or you can keep only the words in one language\n",
    "print (\" \")\n",
    "\n",
    "res =  keep_only_one_lang(res,\"en\")\n",
    "for el in res:\n",
    "    print (el)"
   ]
  },
  {
   "cell_type": "code",
   "execution_count": null,
   "metadata": {},
   "outputs": [],
   "source": []
  },
  {
   "cell_type": "code",
   "execution_count": null,
   "metadata": {},
   "outputs": [],
   "source": []
  }
 ],
 "metadata": {
  "kernelspec": {
   "display_name": "Python 3",
   "language": "python",
   "name": "python3"
  },
  "language_info": {
   "codemirror_mode": {
    "name": "ipython",
    "version": 3
   },
   "file_extension": ".py",
   "mimetype": "text/x-python",
   "name": "python",
   "nbconvert_exporter": "python",
   "pygments_lexer": "ipython3",
   "version": "3.6.5"
  }
 },
 "nbformat": 4,
 "nbformat_minor": 2
}
