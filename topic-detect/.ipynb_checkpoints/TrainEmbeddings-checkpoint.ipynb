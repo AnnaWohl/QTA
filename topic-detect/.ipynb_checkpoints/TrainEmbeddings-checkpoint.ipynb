{
 "cells": [
  {
   "cell_type": "code",
   "execution_count": null,
   "metadata": {},
   "outputs": [],
   "source": [
    "import gensim,os,codecs,string,nltk\n",
    "\n",
    "exclude = set(string.punctuation)\n",
    "\n",
    "def tok_sent(sent):\n",
    "        \n",
    "    # you can decide if you want to lowercase everything or not\n",
    "    sent = sent.lower()\n",
    "    \n",
    "    sent = nltk.tokenize.WordPunctTokenizer().tokenize(sent)\n",
    "    # you remove numbers and punctuation\n",
    "    sent = [token for token in sent if token not in exclude and token.isalpha()]\n",
    "    return sent"
   ]
  },
  {
   "cell_type": "code",
   "execution_count": null,
   "metadata": {},
   "outputs": [],
   "source": [
    "\n",
    "# add the path to the folder where you have all your manifestos in German as text files\n",
    "collection_path = \"../../resources/deu2017/\"\n",
    "\n",
    "trainingData = []\n",
    "\n",
    "# you loop over the folder\n",
    "for filename in os.listdir(collection_path):\n",
    "    # you open each file\n",
    "    content = codecs.open(collection_path+filename,\"r\").read()\n",
    "    # you split it in sentences\n",
    "    content = nltk.sent_tokenize(content)\n",
    "    for sent in content:\n",
    "        # you tokenize in words\n",
    "        sent = tok_sent(sent)\n",
    "        # you append them to the training data\n",
    "        trainingData.append(sent)\n",
    "print (\"ready!\")"
   ]
  },
  {
   "cell_type": "code",
   "execution_count": null,
   "metadata": {},
   "outputs": [],
   "source": [
    "# here you train the word embeddings, with size 50 of the embedding and looking at a window of 5 words around\n",
    "from gensim.models import word2vec, KeyedVectors\n",
    "model = word2vec.Word2Vec(trainingData, size=50, window=5, min_count=2, workers=4)\n",
    "print (\"done.\")"
   ]
  },
  {
   "cell_type": "code",
   "execution_count": null,
   "metadata": {},
   "outputs": [],
   "source": [
    "# we need a large training set of examples for learning good embeddings\n",
    "model.wv.most_similar(positive=['volk'], negative=['politiker'], topn=10)"
   ]
  },
  {
   "cell_type": "code",
   "execution_count": null,
   "metadata": {},
   "outputs": [],
   "source": [
    "model.wv.save_word2vec_format('in-domain-embeddings.txt', binary=False)"
   ]
  }
 ],
 "metadata": {
  "kernelspec": {
   "display_name": "Python 3",
   "language": "python",
   "name": "python3"
  },
  "language_info": {
   "codemirror_mode": {
    "name": "ipython",
    "version": 3
   },
   "file_extension": ".py",
   "mimetype": "text/x-python",
   "name": "python",
   "nbconvert_exporter": "python",
   "pygments_lexer": "ipython3",
   "version": "3.6.3"
  }
 },
 "nbformat": 4,
 "nbformat_minor": 2
}
