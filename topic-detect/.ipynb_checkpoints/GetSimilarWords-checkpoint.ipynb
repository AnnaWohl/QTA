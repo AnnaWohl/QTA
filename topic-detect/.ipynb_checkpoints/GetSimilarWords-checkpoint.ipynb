{
 "cells": [
  {
   "cell_type": "code",
   "execution_count": 1,
   "metadata": {},
   "outputs": [],
   "source": [
    "import gensim\n",
    "\n",
    "#import here your word-embeddings - put the path to the file (if it's .bin change the binary to True)\n",
    "emb_model = gensim.models.KeyedVectors.load_word2vec_format('../../resources/small-embeddings.txt', binary=False)\n"
   ]
  },
  {
   "cell_type": "code",
   "execution_count": 8,
   "metadata": {},
   "outputs": [
    {
     "data": {
      "text/plain": [
       "[('victims', 0.5907501578330994),\n",
       " ('affected', 0.5513606667518616),\n",
       " ('donate', 0.550765335559845),\n",
       " ('affecting', 0.5343887805938721),\n",
       " ('alone', 0.5335721969604492),\n",
       " ('infected', 0.5324920415878296),\n",
       " ('harm', 0.5311962962150574),\n",
       " ('survivors', 0.5271744728088379),\n",
       " ('damages', 0.5245082378387451),\n",
       " ('requests', 0.5243929624557495),\n",
       " ('anywhere', 0.5229702591896057),\n",
       " ('babies', 0.522091805934906),\n",
       " ('children', 0.5211235880851746),\n",
       " ('unborn', 0.5202347040176392),\n",
       " ('harmed', 0.5198752880096436),\n",
       " ('millions', 0.5164182186126709),\n",
       " ('sick', 0.5139908194541931),\n",
       " ('relatives', 0.5125213861465454),\n",
       " ('affects', 0.5060039162635803),\n",
       " ('asking', 0.5044358968734741)]"
      ]
     },
     "execution_count": 8,
     "metadata": {},
     "output_type": "execute_result"
    }
   ],
   "source": [
    "# i'm using word embedding in English, change if you're using German ones\n",
    "emb_model.wv.most_similar(positive=['people', 'citizen'], negative=['elite',\"politician\"], topn=20)"
   ]
  }
 ],
 "metadata": {
  "kernelspec": {
   "display_name": "Python 3",
   "language": "python",
   "name": "python3"
  },
  "language_info": {
   "codemirror_mode": {
    "name": "ipython",
    "version": 3
   },
   "file_extension": ".py",
   "mimetype": "text/x-python",
   "name": "python",
   "nbconvert_exporter": "python",
   "pygments_lexer": "ipython3",
   "version": "3.6.3"
  }
 },
 "nbformat": 4,
 "nbformat_minor": 2
}
