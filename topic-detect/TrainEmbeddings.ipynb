{
 "cells": [
  {
   "cell_type": "code",
   "execution_count": 1,
   "metadata": {},
   "outputs": [],
   "source": [
    "import gensim,os,codecs,string,nltk\n",
    "from langdetect import detect\n",
    "\n",
    "exclude = set(string.punctuation)\n",
    "\n",
    "def tok_sent(sent):\n",
    "        \n",
    "    # you can decide if you want to lowercase everything or not\n",
    "    sent = sent.lower()\n",
    "    \n",
    "    sent = nltk.tokenize.WordPunctTokenizer().tokenize(sent)\n",
    "    # you remove numbers and punctuation\n",
    "    sent = [token for token in sent if token not in exclude and token.isalpha()]\n",
    "    return sent"
   ]
  },
  {
   "cell_type": "code",
   "execution_count": 2,
   "metadata": {},
   "outputs": [
    {
     "name": "stdout",
     "output_type": "stream",
     "text": [
      "'utf-8' codec can't decode byte 0xe2 in position 53: invalid continuation byte\n",
      "'utf-8' codec can't decode byte 0x92 in position 52: invalid start byte\n",
      "'utf-8' codec can't decode byte 0x92 in position 1: invalid start byte\n",
      "ready!\n"
     ]
    }
   ],
   "source": [
    "\n",
    "# add the path to the folder where you have all your manifestos in German as text files\n",
    "collection_path = \"../../GermanManifestos/\"\n",
    "\n",
    "trainingData = []\n",
    "\n",
    "# you loop over the folder\n",
    "for filename in os.listdir(collection_path):\n",
    "    if \".txt\" in filename:\n",
    "        try:\n",
    "            # you open each file\n",
    "            content = open(collection_path+filename,\"r\").read()\n",
    "            # you split it in sentences\n",
    "            langdetect = detect(content)\n",
    "            content = nltk.sent_tokenize(content)\n",
    "            if langdetect == \"de\":\n",
    "                for sent in content:\n",
    "                        # you tokenize in words\n",
    "                        sent = tok_sent(sent)\n",
    "                        # you append them to the training data\n",
    "                        trainingData.append(sent)\n",
    "        except Exception as e:\n",
    "            print (e)\n",
    "            continue\n",
    "print (\"ready!\")"
   ]
  },
  {
   "cell_type": "code",
   "execution_count": null,
   "metadata": {},
   "outputs": [],
   "source": []
  },
  {
   "cell_type": "code",
   "execution_count": 3,
   "metadata": {},
   "outputs": [
    {
     "name": "stdout",
     "output_type": "stream",
     "text": [
      "done.\n"
     ]
    }
   ],
   "source": [
    "# here you train the word embeddings, with size 50 of the embedding and looking at a window of 5 words around\n",
    "from gensim.models import word2vec, KeyedVectors\n",
    "model = word2vec.Word2Vec(trainingData, size=50, window=5, min_count=2, workers=4)\n",
    "print (\"done.\")"
   ]
  },
  {
   "cell_type": "code",
   "execution_count": 4,
   "metadata": {},
   "outputs": [
    {
     "data": {
      "text/plain": [
       "[('wort', 0.8265749216079712),\n",
       " ('vaterland', 0.8129009008407593),\n",
       " ('weltbild', 0.8096427917480469),\n",
       " ('wahlergebnis', 0.8059448003768921),\n",
       " ('rechtssystem', 0.8033766150474548),\n",
       " ('bild', 0.7999262809753418),\n",
       " ('geschäft', 0.7997522354125977),\n",
       " ('bestreben', 0.7894266843795776),\n",
       " ('ehemann', 0.7731077671051025),\n",
       " ('bürgertum', 0.7686161398887634),\n",
       " ('demokratieverständnis', 0.768150806427002),\n",
       " ('glück', 0.767483651638031),\n",
       " ('grundverständnis', 0.7562693357467651),\n",
       " ('gefühl', 0.7560080289840698),\n",
       " ('allgemeinwohl', 0.7535645365715027),\n",
       " ('wertesystem', 0.7529932260513306),\n",
       " ('gastrecht', 0.7493439316749573),\n",
       " ('gedächtnis', 0.7473920583724976),\n",
       " ('urteil', 0.7460820078849792),\n",
       " ('bewußtsein', 0.7441792488098145)]"
      ]
     },
     "execution_count": 4,
     "metadata": {},
     "output_type": "execute_result"
    }
   ],
   "source": [
    "# we need a large training set of examples for learning good embeddings\n",
    "model.wv.most_similar(positive=['volk',\"schicksal\",\"heimatland\"], topn=20)"
   ]
  },
  {
   "cell_type": "code",
   "execution_count": 5,
   "metadata": {},
   "outputs": [],
   "source": [
    "model.wv.save_word2vec_format('in-domain-embeddings.txt', binary=False)"
   ]
  }
 ],
 "metadata": {
  "kernelspec": {
   "display_name": "Python 3",
   "language": "python",
   "name": "python3"
  },
  "language_info": {
   "codemirror_mode": {
    "name": "ipython",
    "version": 3
   },
   "file_extension": ".py",
   "mimetype": "text/x-python",
   "name": "python",
   "nbconvert_exporter": "python",
   "pygments_lexer": "ipython3",
   "version": "3.6.3"
  }
 },
 "nbformat": 4,
 "nbformat_minor": 2
}
