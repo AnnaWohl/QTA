{
 "cells": [
  {
   "cell_type": "code",
   "execution_count": 1,
   "metadata": {},
   "outputs": [],
   "source": [
    "import gensim,os,codecs,string,nltk\n",
    "\n",
    "exclude = set(string.punctuation)\n",
    "\n",
    "def tok_sent(sent):\n",
    "        \n",
    "    # you can decide if you want to lowercase everything or not\n",
    "    sent = sent.lower()\n",
    "    \n",
    "    sent = nltk.tokenize.WordPunctTokenizer().tokenize(sent)\n",
    "    # you remove numbers and punctuation\n",
    "    sent = [token for token in sent if token not in exclude and token.isalpha()]\n",
    "    return sent"
   ]
  },
  {
   "cell_type": "code",
   "execution_count": 6,
   "metadata": {},
   "outputs": [
    {
     "name": "stdout",
     "output_type": "stream",
     "text": [
      "'utf-8' codec can't decode byte 0xe2 in position 53: invalid continuation byte\n",
      "'utf-8' codec can't decode byte 0x92 in position 52: invalid start byte\n",
      "'utf-8' codec can't decode byte 0x92 in position 1: invalid start byte\n",
      "ready!\n"
     ]
    }
   ],
   "source": [
    "\n",
    "# add the path to the folder where you have all your manifestos in German as text files\n",
    "collection_path = \"../../GermanManifestos/\"\n",
    "\n",
    "trainingData = []\n",
    "\n",
    "# you loop over the folder\n",
    "for filename in os.listdir(collection_path):\n",
    "    if \".txt\" in filename:\n",
    "        try:\n",
    "            # you open each file\n",
    "            content = open(collection_path+filename,\"r\").read()\n",
    "            # you split it in sentences\n",
    "            content = nltk.sent_tokenize(content)\n",
    "            for sent in content:\n",
    "                # you tokenize in words\n",
    "                sent = tok_sent(sent)\n",
    "                # you append them to the training data\n",
    "                trainingData.append(sent)\n",
    "        except Exception as e:\n",
    "            print (e)\n",
    "            continue\n",
    "print (\"ready!\")"
   ]
  },
  {
   "cell_type": "code",
   "execution_count": null,
   "metadata": {},
   "outputs": [],
   "source": []
  },
  {
   "cell_type": "code",
   "execution_count": 7,
   "metadata": {},
   "outputs": [
    {
     "name": "stdout",
     "output_type": "stream",
     "text": [
      "done.\n"
     ]
    }
   ],
   "source": [
    "# here you train the word embeddings, with size 50 of the embedding and looking at a window of 5 words around\n",
    "from gensim.models import word2vec, KeyedVectors\n",
    "model = word2vec.Word2Vec(trainingData, size=50, window=5, min_count=2, workers=4)\n",
    "print (\"done.\")"
   ]
  },
  {
   "cell_type": "code",
   "execution_count": 15,
   "metadata": {},
   "outputs": [
    {
     "data": {
      "text/plain": [
       "[('vaterland', 0.8224077820777893),\n",
       " ('bild', 0.7981668710708618),\n",
       " ('wertesystem', 0.7978840470314026),\n",
       " ('geschäft', 0.7942727208137512),\n",
       " ('rechtssystem', 0.7936572432518005),\n",
       " ('glück', 0.7896341681480408),\n",
       " ('wort', 0.7889077067375183),\n",
       " ('gastrecht', 0.7871367931365967),\n",
       " ('gefühl', 0.7839223742485046),\n",
       " ('lebensrecht', 0.7764564156532288),\n",
       " ('bürgertum', 0.7746743559837341),\n",
       " ('demokratieverständnis', 0.7741761207580566),\n",
       " ('selbstverständnis', 0.7705650329589844),\n",
       " ('asylrecht', 0.7683064937591553),\n",
       " ('weltbild', 0.7667025923728943),\n",
       " ('bestreben', 0.7652782201766968),\n",
       " ('wahlergebnis', 0.7635678648948669),\n",
       " ('gesicht', 0.756502628326416),\n",
       " ('familienbild', 0.7538025975227356),\n",
       " ('gedächtnis', 0.7517873644828796)]"
      ]
     },
     "execution_count": 15,
     "metadata": {},
     "output_type": "execute_result"
    }
   ],
   "source": [
    "# we need a large training set of examples for learning good embeddings\n",
    "model.wv.most_similar(positive=['volk',\"schicksal\",\"heimatland\"], topn=20)"
   ]
  },
  {
   "cell_type": "code",
   "execution_count": 9,
   "metadata": {},
   "outputs": [],
   "source": [
    "model.wv.save_word2vec_format('in-domain-embeddings.txt', binary=False)"
   ]
  }
 ],
 "metadata": {
  "kernelspec": {
   "display_name": "Python 3",
   "language": "python",
   "name": "python3"
  },
  "language_info": {
   "codemirror_mode": {
    "name": "ipython",
    "version": 3
   },
   "file_extension": ".py",
   "mimetype": "text/x-python",
   "name": "python",
   "nbconvert_exporter": "python",
   "pygments_lexer": "ipython3",
   "version": "3.6.3"
  }
 },
 "nbformat": 4,
 "nbformat_minor": 2
}
