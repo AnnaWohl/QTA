{
 "cells": [
  {
   "cell_type": "code",
   "execution_count": 1,
   "metadata": {},
   "outputs": [],
   "source": [
    "import gensim,os,codecs,string,nltk\n",
    "\n",
    "exclude = set(string.punctuation)\n",
    "\n",
    "def tok_sent(sent):\n",
    "        \n",
    "    # you can decide if you want to lowercase everything or not\n",
    "    sent = sent.lower()\n",
    "    \n",
    "    sent = nltk.tokenize.WordPunctTokenizer().tokenize(sent)\n",
    "    # you remove numbers and punctuation\n",
    "    sent = [token for token in sent if token not in exclude and token.isalpha()]\n",
    "    return sent"
   ]
  },
  {
   "cell_type": "code",
   "execution_count": 6,
   "metadata": {},
   "outputs": [
    {
     "name": "stdout",
     "output_type": "stream",
     "text": [
      "'utf-8' codec can't decode byte 0xe2 in position 53: invalid continuation byte\n",
      "'utf-8' codec can't decode byte 0x92 in position 52: invalid start byte\n",
      "'utf-8' codec can't decode byte 0x92 in position 1: invalid start byte\n",
      "ready!\n"
     ]
    }
   ],
   "source": [
    "\n",
    "# add the path to the folder where you have all your manifestos in German as text files\n",
    "collection_path = \"GermanManifestos/\"\n",
    "\n",
    "trainingData = []\n",
    "\n",
    "# you loop over the folder\n",
    "for filename in os.listdir(collection_path):\n",
    "    if \".txt\" in filename:\n",
    "        try:\n",
    "            # you open each file\n",
    "            content = open(collection_path+filename,\"r\").read()\n",
    "            # you split it in sentences\n",
    "            content = nltk.sent_tokenize(content)\n",
    "            for sent in content:\n",
    "                # you tokenize in words\n",
    "                sent = tok_sent(sent)\n",
    "                # you append them to the training data\n",
    "                trainingData.append(sent)\n",
    "        except Exception as e:\n",
    "            print (e)\n",
    "            continue\n",
    "print (\"ready!\")"
   ]
  },
  {
   "cell_type": "code",
   "execution_count": 7,
   "metadata": {},
   "outputs": [
    {
     "name": "stdout",
     "output_type": "stream",
     "text": [
      "done.\n"
     ]
    }
   ],
   "source": [
    "# here you train the word embeddings, with size 50 of the embedding and looking at a window of 5 words around\n",
    "from gensim.models import word2vec, KeyedVectors\n",
    "model = word2vec.Word2Vec(trainingData, size=50, window=5, min_count=2, workers=4)\n",
    "print (\"done.\")"
   ]
  },
  {
   "cell_type": "code",
   "execution_count": 11,
   "metadata": {},
   "outputs": [
    {
     "data": {
      "text/plain": [
       "[('parlament', 0.7882131934165955),\n",
       " ('wort', 0.7838448882102966),\n",
       " ('landesparlament', 0.7690828442573547),\n",
       " ('regierungssystem', 0.7662858366966248),\n",
       " ('bundesverfassungsgericht', 0.7528412342071533),\n",
       " ('urteil', 0.7522178888320923),\n",
       " ('vaterland', 0.7521446943283081),\n",
       " ('völkerrecht', 0.7517892122268677),\n",
       " ('wahlergebnis', 0.7490842938423157),\n",
       " ('rechtssystem', 0.7444904446601868),\n",
       " ('subsidiaritätsprinzip', 0.7416324615478516),\n",
       " ('demokratieverständnis', 0.7408373355865479),\n",
       " ('verfassungsgericht', 0.7356526255607605),\n",
       " ('votum', 0.735526442527771),\n",
       " ('schicksal', 0.7348635792732239),\n",
       " ('souverän', 0.7289712429046631),\n",
       " ('gastrecht', 0.7263111472129822),\n",
       " ('bürgertum', 0.7262799739837646),\n",
       " ('grundgesetz', 0.7210705876350403),\n",
       " ('asylrecht', 0.7186307311058044)]"
      ]
     },
     "execution_count": 11,
     "metadata": {},
     "output_type": "execute_result"
    }
   ],
   "source": [
    "# we need a large training set of examples for learning good embeddings\n",
    "model.wv.most_similar(positive=['volk'], topn=20)"
   ]
  },
  {
   "cell_type": "code",
   "execution_count": 9,
   "metadata": {},
   "outputs": [],
   "source": [
    "model.wv.save_word2vec_format('in-domain-embeddings.txt', binary=False)"
   ]
  }
 ],
 "metadata": {
  "kernelspec": {
   "display_name": "Python 3",
   "language": "python",
   "name": "python3"
  },
  "language_info": {
   "codemirror_mode": {
    "name": "ipython",
    "version": 3
   },
   "file_extension": ".py",
   "mimetype": "text/x-python",
   "name": "python",
   "nbconvert_exporter": "python",
   "pygments_lexer": "ipython3",
   "version": "3.6.3"
  }
 },
 "nbformat": 4,
 "nbformat_minor": 2
}
