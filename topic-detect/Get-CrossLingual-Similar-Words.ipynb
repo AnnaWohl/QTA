{
 "cells": [
  {
   "cell_type": "code",
   "execution_count": 13,
   "metadata": {},
   "outputs": [],
   "source": [
    "def remove_lang_results(rank,lang):\n",
    "    final_rank = []\n",
    "    for x in rank:\n",
    "        if lang != x[0].split(\"__\")[0]:\n",
    "            final_rank.append(x)\n",
    "    return final_rank\n",
    "\n",
    "def keep_only_one_lang(rank,lang):\n",
    "    final_rank = []\n",
    "    for x in rank:\n",
    "        if lang == x[0].split(\"__\")[0]:\n",
    "            final_rank.append(x)\n",
    "    return final_rank"
   ]
  },
  {
   "cell_type": "code",
   "execution_count": 5,
   "metadata": {},
   "outputs": [],
   "source": [
    "import gensim\n",
    "\n",
    "#import here your word-embeddings - put the path to the file (if it's .bin change the binary to True)\n",
    "emb_model = gensim.models.KeyedVectors.load_word2vec_format('../TextScaling/topfish/edited.wiki.big-five.mapped.vec', binary=False)\n"
   ]
  },
  {
   "cell_type": "code",
   "execution_count": 15,
   "metadata": {},
   "outputs": [
    {
     "name": "stdout",
     "output_type": "stream",
     "text": [
      "('fr__citoyens', 0.3692666292190552)\n",
      "('it__cittadini', 0.36018866300582886)\n",
      "('it__persone', 0.35626643896102905)\n",
      "('fr__gens', 0.35601261258125305)\n",
      "('fr__personnes', 0.34674304723739624)\n",
      "('es__ciudadanos', 0.34657102823257446)\n",
      "('es__gente', 0.31459835171699524)\n",
      "('es__personas', 0.3115852475166321)\n",
      "('it__gente', 0.3060035705566406)\n",
      "('es__conciudadanos', 0.2948034405708313)\n",
      "('es__residentes', 0.2880120277404785)\n",
      "('it__cittadinanza', 0.27702343463897705)\n",
      "('it__residenti', 0.274262011051178)\n",
      "('fr__paroissiens', 0.27411940693855286)\n",
      " \n",
      "('it__cittadini', 0.36018866300582886)\n",
      "('it__persone', 0.35626643896102905)\n",
      "('it__gente', 0.3060035705566406)\n",
      "('it__cittadinanza', 0.27702343463897705)\n",
      "('it__residenti', 0.274262011051178)\n"
     ]
    }
   ],
   "source": [
    "# you need to add the language + __ before each word\n",
    "res = emb_model.wv.most_similar(positive=['en__people', 'en__citizen'], negative=['en__elite',\"en__politician\"], topn=20)\n",
    "\n",
    "# here you can remove from the results the words in english\n",
    "res = remove_lang_results(res,\"en\")\n",
    "for el in res:\n",
    "    print (el)\n",
    "\n",
    "# or you can keep only the words in one language, for instance Italian\n",
    "print (\" \")\n",
    "\n",
    "res =  keep_only_one_lang(res,\"it\")\n",
    "for el in res:\n",
    "    print (el)"
   ]
  }
 ],
 "metadata": {
  "kernelspec": {
   "display_name": "Python 3",
   "language": "python",
   "name": "python3"
  },
  "language_info": {
   "codemirror_mode": {
    "name": "ipython",
    "version": 3
   },
   "file_extension": ".py",
   "mimetype": "text/x-python",
   "name": "python",
   "nbconvert_exporter": "python",
   "pygments_lexer": "ipython3",
   "version": "3.6.3"
  }
 },
 "nbformat": 4,
 "nbformat_minor": 2
}
